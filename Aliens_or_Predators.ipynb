{
 "cells": [
  {
   "cell_type": "code",
   "execution_count": 76,
   "metadata": {},
   "outputs": [],
   "source": [
    "import keras\n",
    "import pandas as pd\n",
    "import numpy as np\n",
    "import matplotlib.pyplot as plt\n",
    "%matplotlib inline\n",
    "import seaborn as sns\n",
    "import tensorflow as tf\n",
    "from glob import glob\n",
    "from IPython.display import Image\n",
    "import matplotlib.image as mpimg\n",
    "import cv2\n",
    "import os"
   ]
  },
  {
   "cell_type": "code",
   "execution_count": 2,
   "metadata": {},
   "outputs": [
    {
     "data": {
      "image/jpeg": "[encoded data removed]",
      "text/plain": [
       "<IPython.core.display.Image object>"
      ]
     },
     "execution_count": 2,
     "metadata": {},
     "output_type": "execute_result"
    }
   ],
   "source": [
    "# See Image\n",
    "img = Image(\"/home/dhruv/alien_vs_predators/train/alien/5.jpg\")\n",
    "img"
   ]
  },
  {
   "cell_type": "code",
   "execution_count": 3,
   "metadata": {},
   "outputs": [],
   "source": [
    "PATH = os.path.abspath(\"/home/dhruv/alien_vs_predators\")"
   ]
  },
  {
   "cell_type": "code",
   "execution_count": 4,
   "metadata": {},
   "outputs": [
    {
     "data": {
      "text/html": [
       "<div>\n",
       "<style scoped>\n",
       "    .dataframe tbody tr th:only-of-type {\n",
       "        vertical-align: middle;\n",
       "    }\n",
       "\n",
       "    .dataframe tbody tr th {\n",
       "        vertical-align: top;\n",
       "    }\n",
       "\n",
       "    .dataframe thead th {\n",
       "        text-align: right;\n",
       "    }\n",
       "</style>\n",
       "<table border=\"1\" class=\"dataframe\">\n",
       "  <thead>\n",
       "    <tr style=\"text-align: right;\">\n",
       "      <th></th>\n",
       "      <th>train_set</th>\n",
       "    </tr>\n",
       "  </thead>\n",
       "  <tbody>\n",
       "    <tr>\n",
       "      <th>0</th>\n",
       "      <td>/home/dhruv/alien_vs_predators/train/alien/116...</td>\n",
       "    </tr>\n",
       "    <tr>\n",
       "      <th>1</th>\n",
       "      <td>/home/dhruv/alien_vs_predators/train/alien/95.jpg</td>\n",
       "    </tr>\n",
       "    <tr>\n",
       "      <th>2</th>\n",
       "      <td>/home/dhruv/alien_vs_predators/train/alien/333...</td>\n",
       "    </tr>\n",
       "    <tr>\n",
       "      <th>3</th>\n",
       "      <td>/home/dhruv/alien_vs_predators/train/alien/334...</td>\n",
       "    </tr>\n",
       "    <tr>\n",
       "      <th>4</th>\n",
       "      <td>/home/dhruv/alien_vs_predators/train/alien/182...</td>\n",
       "    </tr>\n",
       "  </tbody>\n",
       "</table>\n",
       "</div>"
      ],
      "text/plain": [
       "                                           train_set\n",
       "0  /home/dhruv/alien_vs_predators/train/alien/116...\n",
       "1  /home/dhruv/alien_vs_predators/train/alien/95.jpg\n",
       "2  /home/dhruv/alien_vs_predators/train/alien/333...\n",
       "3  /home/dhruv/alien_vs_predators/train/alien/334...\n",
       "4  /home/dhruv/alien_vs_predators/train/alien/182..."
      ]
     },
     "execution_count": 4,
     "metadata": {},
     "output_type": "execute_result"
    }
   ],
   "source": [
    "# Train Set\n",
    "# Alien Images\n",
    "train_alien_images = os.path.join(PATH,\"train\",\"alien\")\n",
    "train_alien = glob(os.path.join(train_alien_images, \"*.jpg\"))\n",
    "# Predators Images\n",
    "train_predator_images = os.path.join(PATH,\"train\",\"predator\")\n",
    "train_predator = glob(os.path.join(train_predator_images,\"*.jpg\"))\n",
    "\n",
    "train = pd.DataFrame()\n",
    "train['train_set'] = train_alien + train_predator\n",
    "train.head()"
   ]
  },
  {
   "cell_type": "code",
   "execution_count": 5,
   "metadata": {},
   "outputs": [
    {
     "data": {
      "text/html": [
       "<div>\n",
       "<style scoped>\n",
       "    .dataframe tbody tr th:only-of-type {\n",
       "        vertical-align: middle;\n",
       "    }\n",
       "\n",
       "    .dataframe tbody tr th {\n",
       "        vertical-align: top;\n",
       "    }\n",
       "\n",
       "    .dataframe thead th {\n",
       "        text-align: right;\n",
       "    }\n",
       "</style>\n",
       "<table border=\"1\" class=\"dataframe\">\n",
       "  <thead>\n",
       "    <tr style=\"text-align: right;\">\n",
       "      <th></th>\n",
       "      <th>train_set</th>\n",
       "      <th>label</th>\n",
       "    </tr>\n",
       "  </thead>\n",
       "  <tbody>\n",
       "    <tr>\n",
       "      <th>0</th>\n",
       "      <td>/home/dhruv/alien_vs_predators/train/alien/116...</td>\n",
       "      <td>1</td>\n",
       "    </tr>\n",
       "    <tr>\n",
       "      <th>1</th>\n",
       "      <td>/home/dhruv/alien_vs_predators/train/alien/95.jpg</td>\n",
       "      <td>1</td>\n",
       "    </tr>\n",
       "    <tr>\n",
       "      <th>2</th>\n",
       "      <td>/home/dhruv/alien_vs_predators/train/alien/333...</td>\n",
       "      <td>1</td>\n",
       "    </tr>\n",
       "    <tr>\n",
       "      <th>3</th>\n",
       "      <td>/home/dhruv/alien_vs_predators/train/alien/334...</td>\n",
       "      <td>1</td>\n",
       "    </tr>\n",
       "    <tr>\n",
       "      <th>4</th>\n",
       "      <td>/home/dhruv/alien_vs_predators/train/alien/182...</td>\n",
       "      <td>1</td>\n",
       "    </tr>\n",
       "  </tbody>\n",
       "</table>\n",
       "</div>"
      ],
      "text/plain": [
       "                                           train_set  label\n",
       "0  /home/dhruv/alien_vs_predators/train/alien/116...      1\n",
       "1  /home/dhruv/alien_vs_predators/train/alien/95.jpg      1\n",
       "2  /home/dhruv/alien_vs_predators/train/alien/333...      1\n",
       "3  /home/dhruv/alien_vs_predators/train/alien/334...      1\n",
       "4  /home/dhruv/alien_vs_predators/train/alien/182...      1"
      ]
     },
     "execution_count": 5,
     "metadata": {},
     "output_type": "execute_result"
    }
   ],
   "source": [
    "train['label'] = [1 if i in train_alien else 0 for i in train['train_set']] # Labels Aliens = 0, Predators = 1\n",
    "train.head()"
   ]
  },
  {
   "cell_type": "code",
   "execution_count": 6,
   "metadata": {},
   "outputs": [
    {
     "data": {
      "text/plain": [
       "(694, 2)"
      ]
     },
     "execution_count": 6,
     "metadata": {},
     "output_type": "execute_result"
    }
   ],
   "source": [
    "train.shape"
   ]
  },
  {
   "cell_type": "code",
   "execution_count": 7,
   "metadata": {},
   "outputs": [
    {
     "data": {
      "text/html": [
       "<div>\n",
       "<style scoped>\n",
       "    .dataframe tbody tr th:only-of-type {\n",
       "        vertical-align: middle;\n",
       "    }\n",
       "\n",
       "    .dataframe tbody tr th {\n",
       "        vertical-align: top;\n",
       "    }\n",
       "\n",
       "    .dataframe thead th {\n",
       "        text-align: right;\n",
       "    }\n",
       "</style>\n",
       "<table border=\"1\" class=\"dataframe\">\n",
       "  <thead>\n",
       "    <tr style=\"text-align: right;\">\n",
       "      <th></th>\n",
       "      <th>val_set</th>\n",
       "    </tr>\n",
       "  </thead>\n",
       "  <tbody>\n",
       "    <tr>\n",
       "      <th>0</th>\n",
       "      <td>/home/dhruv/alien_vs_predators/validation/alie...</td>\n",
       "    </tr>\n",
       "    <tr>\n",
       "      <th>1</th>\n",
       "      <td>/home/dhruv/alien_vs_predators/validation/alie...</td>\n",
       "    </tr>\n",
       "    <tr>\n",
       "      <th>2</th>\n",
       "      <td>/home/dhruv/alien_vs_predators/validation/alie...</td>\n",
       "    </tr>\n",
       "    <tr>\n",
       "      <th>3</th>\n",
       "      <td>/home/dhruv/alien_vs_predators/validation/alie...</td>\n",
       "    </tr>\n",
       "    <tr>\n",
       "      <th>4</th>\n",
       "      <td>/home/dhruv/alien_vs_predators/validation/alie...</td>\n",
       "    </tr>\n",
       "  </tbody>\n",
       "</table>\n",
       "</div>"
      ],
      "text/plain": [
       "                                             val_set\n",
       "0  /home/dhruv/alien_vs_predators/validation/alie...\n",
       "1  /home/dhruv/alien_vs_predators/validation/alie...\n",
       "2  /home/dhruv/alien_vs_predators/validation/alie...\n",
       "3  /home/dhruv/alien_vs_predators/validation/alie...\n",
       "4  /home/dhruv/alien_vs_predators/validation/alie..."
      ]
     },
     "execution_count": 7,
     "metadata": {},
     "output_type": "execute_result"
    }
   ],
   "source": [
    "# Validation Set\n",
    "# Alien\n",
    "val_alien_images = os.path.join(PATH,\"validation\",\"alien\")\n",
    "val_alien = glob(os.path.join(val_alien_images,\"*.jpg\"))\n",
    "# Predator\n",
    "val_predator_images = os.path.join(PATH,\"validation\", \"predator\")\n",
    "val_predator = glob(os.path.join(val_predator_images,\"*.jpg\"))\n",
    "\n",
    "val = pd.DataFrame()\n",
    "val['val_set'] = val_alien + val_predator\n",
    "val.head()"
   ]
  },
  {
   "cell_type": "code",
   "execution_count": 8,
   "metadata": {},
   "outputs": [
    {
     "data": {
      "text/html": [
       "<div>\n",
       "<style scoped>\n",
       "    .dataframe tbody tr th:only-of-type {\n",
       "        vertical-align: middle;\n",
       "    }\n",
       "\n",
       "    .dataframe tbody tr th {\n",
       "        vertical-align: top;\n",
       "    }\n",
       "\n",
       "    .dataframe thead th {\n",
       "        text-align: right;\n",
       "    }\n",
       "</style>\n",
       "<table border=\"1\" class=\"dataframe\">\n",
       "  <thead>\n",
       "    <tr style=\"text-align: right;\">\n",
       "      <th></th>\n",
       "      <th>val_set</th>\n",
       "      <th>label</th>\n",
       "    </tr>\n",
       "  </thead>\n",
       "  <tbody>\n",
       "    <tr>\n",
       "      <th>0</th>\n",
       "      <td>/home/dhruv/alien_vs_predators/validation/alie...</td>\n",
       "      <td>1</td>\n",
       "    </tr>\n",
       "    <tr>\n",
       "      <th>1</th>\n",
       "      <td>/home/dhruv/alien_vs_predators/validation/alie...</td>\n",
       "      <td>1</td>\n",
       "    </tr>\n",
       "    <tr>\n",
       "      <th>2</th>\n",
       "      <td>/home/dhruv/alien_vs_predators/validation/alie...</td>\n",
       "      <td>1</td>\n",
       "    </tr>\n",
       "    <tr>\n",
       "      <th>3</th>\n",
       "      <td>/home/dhruv/alien_vs_predators/validation/alie...</td>\n",
       "      <td>1</td>\n",
       "    </tr>\n",
       "    <tr>\n",
       "      <th>4</th>\n",
       "      <td>/home/dhruv/alien_vs_predators/validation/alie...</td>\n",
       "      <td>1</td>\n",
       "    </tr>\n",
       "  </tbody>\n",
       "</table>\n",
       "</div>"
      ],
      "text/plain": [
       "                                             val_set  label\n",
       "0  /home/dhruv/alien_vs_predators/validation/alie...      1\n",
       "1  /home/dhruv/alien_vs_predators/validation/alie...      1\n",
       "2  /home/dhruv/alien_vs_predators/validation/alie...      1\n",
       "3  /home/dhruv/alien_vs_predators/validation/alie...      1\n",
       "4  /home/dhruv/alien_vs_predators/validation/alie...      1"
      ]
     },
     "execution_count": 8,
     "metadata": {},
     "output_type": "execute_result"
    }
   ],
   "source": [
    "val['label'] = [1 if i in val_alien else 0 for i in val['val_set']] # Labels Aliens = 0, Predators = 1\n",
    "val.head()"
   ]
  },
  {
   "cell_type": "code",
   "execution_count": 9,
   "metadata": {},
   "outputs": [
    {
     "data": {
      "text/plain": [
       "(200, 2)"
      ]
     },
     "execution_count": 9,
     "metadata": {},
     "output_type": "execute_result"
    }
   ],
   "source": [
    "val.shape"
   ]
  },
  {
   "cell_type": "code",
   "execution_count": 33,
   "metadata": {
    "scrolled": true
   },
   "outputs": [
    {
     "name": "stdout",
     "output_type": "stream",
     "text": [
      "(168, 300, 3)\n",
      "251\n"
     ]
    }
   ],
   "source": [
    "# Shapes of images differ!\n",
    "print(cv2.imread(train_alien[1]).shape)\n",
    "print(cv2.imread(train_predator[0]).shape[0])"
   ]
  },
  {
   "cell_type": "code",
   "execution_count": 34,
   "metadata": {},
   "outputs": [],
   "source": [
    "x = cv2.imread(train_alien[1]).shape\n",
    "y = cv2.imread(train_predator[0]).shape"
   ]
  },
  {
   "cell_type": "code",
   "execution_count": 35,
   "metadata": {},
   "outputs": [
    {
     "data": {
      "text/plain": [
       "(168, 300, 3)"
      ]
     },
     "execution_count": 35,
     "metadata": {},
     "output_type": "execute_result"
    }
   ],
   "source": [
    "min(x,y)"
   ]
  },
  {
   "cell_type": "markdown",
   "metadata": {},
   "source": [
    "<h1> Select minimum shape value in both train and val set and rescale the images </h1>"
   ]
  },
  {
   "cell_type": "code",
   "execution_count": 46,
   "metadata": {},
   "outputs": [],
   "source": [
    "l = (99999,99999,4)\n",
    "for i in range(0,694):\n",
    "    t = cv2.imread(train.train_set[i]).shape\n",
    "    l = min(l,x)"
   ]
  },
  {
   "cell_type": "code",
   "execution_count": 47,
   "metadata": {},
   "outputs": [
    {
     "data": {
      "text/plain": [
       "(225, 224, 3)"
      ]
     },
     "execution_count": 47,
     "metadata": {},
     "output_type": "execute_result"
    }
   ],
   "source": [
    "l"
   ]
  },
  {
   "cell_type": "code",
   "execution_count": 48,
   "metadata": {},
   "outputs": [],
   "source": [
    "k = (99999,99999,4)\n",
    "for i in range(0,200):\n",
    "    x = cv2.imread(val.val_set[i]).shape\n",
    "    k = min(l,x)"
   ]
  },
  {
   "cell_type": "code",
   "execution_count": 49,
   "metadata": {},
   "outputs": [
    {
     "data": {
      "text/plain": [
       "(225, 224, 3)"
      ]
     },
     "execution_count": 49,
     "metadata": {},
     "output_type": "execute_result"
    }
   ],
   "source": [
    "k"
   ]
  },
  {
   "cell_type": "code",
   "execution_count": 51,
   "metadata": {},
   "outputs": [],
   "source": [
    "from keras.preprocessing.image import ImageDataGenerator"
   ]
  },
  {
   "cell_type": "code",
   "execution_count": 53,
   "metadata": {},
   "outputs": [
    {
     "name": "stdout",
     "output_type": "stream",
     "text": [
      "Found 694 images belonging to 2 classes.\n"
     ]
    }
   ],
   "source": [
    "# Creating a tf Dataset using flow from directory and rescaling simultaneously\n",
    "# Reference: https://keras.io/api/preprocessing/image\n",
    "# flow_from_directory returns rescaled images in a tf Dataset\n",
    "train_datagen = ImageDataGenerator(rescale = 1./255)\n",
    "train_generator = train_datagen.flow_from_directory(\n",
    "                  '/home/dhruv/alien_vs_predators/train', # train contains 2 classes \"alien\",\"predators\"!\n",
    "                   target_size = (225,224),\n",
    "                   class_mode = 'binary')"
   ]
  },
  {
   "cell_type": "code",
   "execution_count": 54,
   "metadata": {},
   "outputs": [
    {
     "name": "stdout",
     "output_type": "stream",
     "text": [
      "Found 200 images belonging to 2 classes.\n"
     ]
    }
   ],
   "source": [
    "# Creating a tf Dataset using flow from directory and rescaling simultaneously\n",
    "val_datagen = ImageDataGenerator(rescale = 1./255)\n",
    "val_generator = train_datagen.flow_from_directory(\n",
    "                  '/home/dhruv/alien_vs_predators/validation',\n",
    "                   target_size = (225,224),\n",
    "                   class_mode = 'binary')"
   ]
  },
  {
   "cell_type": "code",
   "execution_count": 99,
   "metadata": {},
   "outputs": [],
   "source": [
    "from keras.models import Sequential\n",
    "from keras.layers import Dense,Conv2D,Flatten,MaxPool2D,Dropout,Activation,MaxPooling2D"
   ]
  },
  {
   "cell_type": "markdown",
   "metadata": {},
   "source": [
    "# Model 1.0"
   ]
  },
  {
   "cell_type": "code",
   "execution_count": 83,
   "metadata": {},
   "outputs": [],
   "source": [
    "# Model Building\n",
    "\n",
    "model = Sequential()\n",
    "model.add(Conv2D(filters = 96,kernel_size = (11,11),strides = (4,4),activation = 'relu',input_shape = (225,224,3)))\n",
    "model.add(MaxPool2D(pool_size = (3,3),strides = (2,2)))\n",
    "model.add(Conv2D(filters = 256,kernel_size = (5,5),strides = (1,1)))\n",
    "model.add(MaxPool2D(pool_size = (3,3),strides = (2,2)))\n",
    "model.add(Flatten())\n",
    "model.add(Dense(64, activation = 'relu'))\n",
    "model.add(Dropout(0.5))\n",
    "model.add(Dense(128,activation = 'relu'))\n",
    "model.add(Dropout(0.5))\n",
    "model.add(Dense(1,activation = 'sigmoid'))"
   ]
  },
  {
   "cell_type": "code",
   "execution_count": 88,
   "metadata": {},
   "outputs": [],
   "source": [
    "from keras.optimizers import RMSprop,Adam"
   ]
  },
  {
   "cell_type": "code",
   "execution_count": 91,
   "metadata": {},
   "outputs": [
    {
     "name": "stdout",
     "output_type": "stream",
     "text": [
      "Model: \"sequential_4\"\n",
      "_________________________________________________________________\n",
      "Layer (type)                 Output Shape              Param #   \n",
      "=================================================================\n",
      "conv2d_7 (Conv2D)            (None, 54, 54, 96)        34944     \n",
      "_________________________________________________________________\n",
      "max_pooling2d_7 (MaxPooling2 (None, 26, 26, 96)        0         \n",
      "_________________________________________________________________\n",
      "conv2d_8 (Conv2D)            (None, 22, 22, 256)       614656    \n",
      "_________________________________________________________________\n",
      "max_pooling2d_8 (MaxPooling2 (None, 10, 10, 256)       0         \n",
      "_________________________________________________________________\n",
      "flatten_4 (Flatten)          (None, 25600)             0         \n",
      "_________________________________________________________________\n",
      "dense_10 (Dense)             (None, 64)                1638464   \n",
      "_________________________________________________________________\n",
      "dropout_7 (Dropout)          (None, 64)                0         \n",
      "_________________________________________________________________\n",
      "dense_11 (Dense)             (None, 128)               8320      \n",
      "_________________________________________________________________\n",
      "dropout_8 (Dropout)          (None, 128)               0         \n",
      "_________________________________________________________________\n",
      "dense_12 (Dense)             (None, 1)                 129       \n",
      "=================================================================\n",
      "Total params: 2,296,513\n",
      "Trainable params: 2,296,513\n",
      "Non-trainable params: 0\n",
      "_________________________________________________________________\n"
     ]
    }
   ],
   "source": [
    "model.compile(optimizer='adam',loss=\"binary_crossentropy\",metrics=[\"accuracy\"])\n",
    "model.summary()"
   ]
  },
  {
   "cell_type": "code",
   "execution_count": 94,
   "metadata": {},
   "outputs": [
    {
     "name": "stdout",
     "output_type": "stream",
     "text": [
      "Epoch 1/5\n",
      "50/50 [==============================] - 29s 584ms/step - loss: 0.6932 - accuracy: 0.5006 - val_loss: 0.6935 - val_accuracy: 0.5000\n",
      "Epoch 2/5\n",
      "50/50 [==============================] - 34s 677ms/step - loss: 0.6934 - accuracy: 0.4873 - val_loss: 0.6931 - val_accuracy: 0.5000\n",
      "Epoch 3/5\n",
      "50/50 [==============================] - 39s 785ms/step - loss: 0.6934 - accuracy: 0.4880 - val_loss: 0.6918 - val_accuracy: 0.5000\n",
      "Epoch 4/5\n",
      "50/50 [==============================] - 38s 764ms/step - loss: 0.6934 - accuracy: 0.4918 - val_loss: 0.6947 - val_accuracy: 0.5000\n",
      "Epoch 5/5\n",
      "50/50 [==============================] - 42s 833ms/step - loss: 0.6931 - accuracy: 0.5045 - val_loss: 0.6932 - val_accuracy: 0.5000\n"
     ]
    },
    {
     "data": {
      "text/plain": [
       "<keras.callbacks.callbacks.History at 0x7f3490305860>"
      ]
     },
     "execution_count": 94,
     "metadata": {},
     "output_type": "execute_result"
    }
   ],
   "source": [
    "model.fit(train_generator,steps_per_epoch=50,epochs = 5,validation_data=val_generator)"
   ]
  },
  {
   "cell_type": "markdown",
   "metadata": {},
   "source": [
    "# Model 2.0"
   ]
  },
  {
   "cell_type": "code",
   "execution_count": 100,
   "metadata": {},
   "outputs": [],
   "source": [
    "model2 = Sequential()\n",
    "model2.add(Conv2D(32, (3, 3), input_shape = (225, 224, 3)))\n",
    "model2.add(Activation(\"relu\"))\n",
    "model2.add(MaxPooling2D(pool_size = (3, 3)))\n",
    "model2.add(Conv2D(64, (3, 3), input_shape = (100, 100, 3)))\n",
    "model2.add(Activation(\"relu\"))\n",
    "model2.add(MaxPooling2D(pool_size = (3, 3)))\n",
    "\n",
    "model2.add(Flatten())\n",
    "\n",
    "model2.add(Dense(64))\n",
    "model2.add(Activation(\"relu\")) \n",
    "model2.add(Dense(128))\n",
    "model2.add(Activation(\"relu\")) \n",
    "model2.add(Dense(activation = 'sigmoid', units=1))"
   ]
  },
  {
   "cell_type": "code",
   "execution_count": 101,
   "metadata": {},
   "outputs": [
    {
     "name": "stdout",
     "output_type": "stream",
     "text": [
      "Model: \"sequential_7\"\n",
      "_________________________________________________________________\n",
      "Layer (type)                 Output Shape              Param #   \n",
      "=================================================================\n",
      "conv2d_11 (Conv2D)           (None, 223, 222, 32)      896       \n",
      "_________________________________________________________________\n",
      "activation_2 (Activation)    (None, 223, 222, 32)      0         \n",
      "_________________________________________________________________\n",
      "max_pooling2d_9 (MaxPooling2 (None, 74, 74, 32)        0         \n",
      "_________________________________________________________________\n",
      "conv2d_12 (Conv2D)           (None, 72, 72, 64)        18496     \n",
      "_________________________________________________________________\n",
      "activation_3 (Activation)    (None, 72, 72, 64)        0         \n",
      "_________________________________________________________________\n",
      "max_pooling2d_10 (MaxPooling (None, 24, 24, 64)        0         \n",
      "_________________________________________________________________\n",
      "flatten_5 (Flatten)          (None, 36864)             0         \n",
      "_________________________________________________________________\n",
      "dense_13 (Dense)             (None, 64)                2359360   \n",
      "_________________________________________________________________\n",
      "activation_4 (Activation)    (None, 64)                0         \n",
      "_________________________________________________________________\n",
      "dense_14 (Dense)             (None, 128)               8320      \n",
      "_________________________________________________________________\n",
      "activation_5 (Activation)    (None, 128)               0         \n",
      "_________________________________________________________________\n",
      "dense_15 (Dense)             (None, 1)                 129       \n",
      "=================================================================\n",
      "Total params: 2,387,201\n",
      "Trainable params: 2,387,201\n",
      "Non-trainable params: 0\n",
      "_________________________________________________________________\n"
     ]
    }
   ],
   "source": [
    "model2.compile(optimizer='adam',loss=\"binary_crossentropy\",metrics=[\"accuracy\"])\n",
    "model2.summary()"
   ]
  },
  {
   "cell_type": "code",
   "execution_count": 104,
   "metadata": {},
   "outputs": [
    {
     "name": "stdout",
     "output_type": "stream",
     "text": [
      "Epoch 1/10\n",
      "50/50 [==============================] - 22s 434ms/step - loss: 0.2967 - accuracy: 0.8861 - val_loss: 0.5505 - val_accuracy: 0.6200\n",
      "Epoch 2/10\n",
      "50/50 [==============================] - 22s 440ms/step - loss: 0.1617 - accuracy: 0.9414 - val_loss: 0.6530 - val_accuracy: 0.7150\n",
      "Epoch 3/10\n",
      "50/50 [==============================] - 24s 473ms/step - loss: 0.0444 - accuracy: 0.9880 - val_loss: 0.6851 - val_accuracy: 0.7100\n",
      "Epoch 4/10\n",
      "50/50 [==============================] - 46s 927ms/step - loss: 0.0118 - accuracy: 0.9981 - val_loss: 0.3988 - val_accuracy: 0.6800\n",
      "Epoch 5/10\n",
      "50/50 [==============================] - 31s 624ms/step - loss: 0.0444 - accuracy: 0.9841 - val_loss: 0.6616 - val_accuracy: 0.6750\n",
      "Epoch 6/10\n",
      "50/50 [==============================] - 29s 582ms/step - loss: 0.0418 - accuracy: 0.9873 - val_loss: 1.2077 - val_accuracy: 0.6700\n",
      "Epoch 7/10\n",
      "50/50 [==============================] - 27s 531ms/step - loss: 0.0044 - accuracy: 0.9994 - val_loss: 0.8387 - val_accuracy: 0.6850\n",
      "Epoch 8/10\n",
      "50/50 [==============================] - 30s 601ms/step - loss: 0.0018 - accuracy: 1.0000 - val_loss: 2.3049 - val_accuracy: 0.6700\n",
      "Epoch 9/10\n",
      "50/50 [==============================] - 20s 404ms/step - loss: 8.3754e-04 - accuracy: 1.0000 - val_loss: 0.3615 - val_accuracy: 0.6600\n",
      "Epoch 10/10\n",
      "50/50 [==============================] - 21s 428ms/step - loss: 6.3536e-04 - accuracy: 1.0000 - val_loss: 3.3983 - val_accuracy: 0.6750\n"
     ]
    },
    {
     "data": {
      "text/plain": [
       "<keras.callbacks.callbacks.History at 0x7f349008f7f0>"
      ]
     },
     "execution_count": 104,
     "metadata": {},
     "output_type": "execute_result"
    }
   ],
   "source": [
    "model2.fit(train_generator,steps_per_epoch=50,epochs = 10,validation_data=val_generator)"
   ]
  },
  {
   "cell_type": "markdown",
   "metadata": {},
   "source": [
    "<p> Add Dropuout Regularization for preventing Overfitting </p>"
   ]
  },
  {
   "cell_type": "code",
   "execution_count": 114,
   "metadata": {},
   "outputs": [],
   "source": [
    "model2 = Sequential()\n",
    "model2.add(Conv2D(32, (3, 3), input_shape = (225, 224, 3)))\n",
    "model2.add(Activation(\"relu\"))\n",
    "model2.add(MaxPooling2D(pool_size = (3, 3)))\n",
    "model2.add(Conv2D(64, (3, 3), input_shape = (100, 100, 3)))\n",
    "model2.add(Activation(\"relu\"))\n",
    "model2.add(MaxPooling2D(pool_size = (3, 3)))\n",
    "\n",
    "model2.add(Flatten())\n",
    "\n",
    "model2.add(Dense(64))\n",
    "model2.add(Dropout(0.5))\n",
    "model2.add(Activation(\"relu\")) \n",
    "model2.add(Dense(128))\n",
    "model2.add(Dropout(0.5))\n",
    "model2.add(Activation(\"relu\")) \n",
    "model2.add(Dense(activation = 'sigmoid', units=1))"
   ]
  },
  {
   "cell_type": "code",
   "execution_count": 109,
   "metadata": {},
   "outputs": [],
   "source": [
    "model2.compile(optimizer='adam',loss=\"binary_crossentropy\",metrics=[\"accuracy\"])"
   ]
  },
  {
   "cell_type": "code",
   "execution_count": 107,
   "metadata": {},
   "outputs": [
    {
     "name": "stdout",
     "output_type": "stream",
     "text": [
      "Epoch 1/10\n",
      "50/50 [==============================] - 27s 539ms/step - loss: 0.7151 - accuracy: 0.5380 - val_loss: 0.7475 - val_accuracy: 0.5300\n",
      "Epoch 2/10\n",
      "50/50 [==============================] - 27s 534ms/step - loss: 0.6077 - accuracy: 0.7057 - val_loss: 0.4383 - val_accuracy: 0.6250\n",
      "Epoch 3/10\n",
      "50/50 [==============================] - 28s 554ms/step - loss: 0.4892 - accuracy: 0.7924 - val_loss: 0.4762 - val_accuracy: 0.6950\n",
      "Epoch 4/10\n",
      "50/50 [==============================] - 21s 429ms/step - loss: 0.3089 - accuracy: 0.8930 - val_loss: 0.4589 - val_accuracy: 0.7300\n",
      "Epoch 5/10\n",
      "50/50 [==============================] - 24s 472ms/step - loss: 0.1513 - accuracy: 0.9475 - val_loss: 0.8054 - val_accuracy: 0.7400\n",
      "Epoch 6/10\n",
      "50/50 [==============================] - 28s 557ms/step - loss: 0.0702 - accuracy: 0.9758 - val_loss: 0.3053 - val_accuracy: 0.7300\n",
      "Epoch 7/10\n",
      "50/50 [==============================] - 27s 546ms/step - loss: 0.0561 - accuracy: 0.9842 - val_loss: 0.3136 - val_accuracy: 0.7250\n",
      "Epoch 8/10\n",
      "50/50 [==============================] - 27s 542ms/step - loss: 0.0493 - accuracy: 0.9886 - val_loss: 1.1965 - val_accuracy: 0.7100\n",
      "Epoch 9/10\n",
      "50/50 [==============================] - 27s 535ms/step - loss: 0.0345 - accuracy: 0.9899 - val_loss: 2.6175 - val_accuracy: 0.7100\n",
      "Epoch 10/10\n",
      "50/50 [==============================] - 24s 475ms/step - loss: 0.0159 - accuracy: 0.9949 - val_loss: 1.5406 - val_accuracy: 0.7100\n"
     ]
    },
    {
     "data": {
      "text/plain": [
       "<keras.callbacks.callbacks.History at 0x7f34a10daf98>"
      ]
     },
     "execution_count": 107,
     "metadata": {},
     "output_type": "execute_result"
    }
   ],
   "source": [
    "model2.fit(train_generator,steps_per_epoch=50,epochs = 10,validation_data=val_generator)"
   ]
  },
  {
   "cell_type": "markdown",
   "metadata": {},
   "source": [
    "# Model 3.0"
   ]
  },
  {
   "cell_type": "code",
   "execution_count": 115,
   "metadata": {},
   "outputs": [],
   "source": [
    "# Model Building\n",
    "\n",
    "model = Sequential()\n",
    "model.add(Conv2D(filters = 64,kernel_size = (11,11),strides = (4,4),activation = 'relu',input_shape = (225,224,3)))\n",
    "model.add(MaxPool2D(pool_size = (3,3),strides = (2,2)))\n",
    "model.add(Conv2D(filters = 128,kernel_size = (5,5),strides = (1,1)))\n",
    "model.add(MaxPool2D(pool_size = (3,3),strides = (2,2)))\n",
    "model.add(Flatten())\n",
    "model.add(Dense(64, activation = 'relu'))\n",
    "model.add(Dropout(0.5))\n",
    "model.add(Dense(128,activation = 'relu'))\n",
    "model.add(Dropout(0.5))\n",
    "model.add(Dense(1,activation = 'sigmoid'))"
   ]
  },
  {
   "cell_type": "code",
   "execution_count": 116,
   "metadata": {},
   "outputs": [],
   "source": [
    "model.compile(optimizer='adam',loss=\"binary_crossentropy\",metrics=[\"accuracy\"])"
   ]
  },
  {
   "cell_type": "code",
   "execution_count": 117,
   "metadata": {},
   "outputs": [
    {
     "name": "stdout",
     "output_type": "stream",
     "text": [
      "Epoch 1/10\n",
      "50/50 [==============================] - 17s 338ms/step - loss: 0.7046 - accuracy: 0.5101 - val_loss: 0.6686 - val_accuracy: 0.6200\n",
      "Epoch 2/10\n",
      "50/50 [==============================] - 22s 433ms/step - loss: 0.6380 - accuracy: 0.6551 - val_loss: 0.4850 - val_accuracy: 0.7100\n",
      "Epoch 3/10\n",
      "50/50 [==============================] - 21s 428ms/step - loss: 0.5903 - accuracy: 0.7096 - val_loss: 0.9125 - val_accuracy: 0.6050\n",
      "Epoch 4/10\n",
      "50/50 [==============================] - 22s 437ms/step - loss: 0.6046 - accuracy: 0.6987 - val_loss: 0.5005 - val_accuracy: 0.7300\n",
      "Epoch 5/10\n",
      "50/50 [==============================] - 22s 431ms/step - loss: 0.5416 - accuracy: 0.7392 - val_loss: 0.6378 - val_accuracy: 0.7050\n",
      "Epoch 6/10\n",
      "50/50 [==============================] - 21s 410ms/step - loss: 0.5290 - accuracy: 0.7503 - val_loss: 0.4693 - val_accuracy: 0.7050\n",
      "Epoch 7/10\n",
      "50/50 [==============================] - 22s 434ms/step - loss: 0.4892 - accuracy: 0.7722 - val_loss: 0.4604 - val_accuracy: 0.7250\n",
      "Epoch 8/10\n",
      "50/50 [==============================] - 22s 432ms/step - loss: 0.5118 - accuracy: 0.7682 - val_loss: 0.6056 - val_accuracy: 0.7050\n",
      "Epoch 9/10\n",
      "50/50 [==============================] - 23s 453ms/step - loss: 0.4653 - accuracy: 0.7962 - val_loss: 0.2906 - val_accuracy: 0.7500\n",
      "Epoch 10/10\n",
      "50/50 [==============================] - 22s 443ms/step - loss: 0.4083 - accuracy: 0.8210 - val_loss: 0.3901 - val_accuracy: 0.7450\n"
     ]
    },
    {
     "data": {
      "text/plain": [
       "<keras.callbacks.callbacks.History at 0x7f3443f35f60>"
      ]
     },
     "execution_count": 117,
     "metadata": {},
     "output_type": "execute_result"
    }
   ],
   "source": [
    "model.fit(train_generator,steps_per_epoch=50,epochs = 10,validation_data=val_generator)"
   ]
  },
  {
   "cell_type": "markdown",
   "metadata": {},
   "source": [
    "# To further prevent overfitting we require more data!"
   ]
  },
  {
   "cell_type": "code",
   "execution_count": null,
   "metadata": {},
   "outputs": [],
   "source": []
  }
 ],
 "metadata": {
  "kernelspec": {
   "display_name": "Python 3",
   "language": "python",
   "name": "python3"
  },
  "language_info": {
   "codemirror_mode": {
    "name": "ipython",
    "version": 3
   },
   "file_extension": ".py",
   "mimetype": "text/x-python",
   "name": "python",
   "nbconvert_exporter": "python",
   "pygments_lexer": "ipython3",
   "version": "3.6.9"
  }
 },
 "nbformat": 4,
 "nbformat_minor": 2
}
